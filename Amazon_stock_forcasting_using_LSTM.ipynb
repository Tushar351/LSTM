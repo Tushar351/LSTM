{
 "cells": [
  {
   "cell_type": "code",
   "execution_count": 1,
   "metadata": {},
   "outputs": [],
   "source": [
    "import numpy as np\n",
    "import pandas as pd\n",
    "import matplotlib.pyplot as plt\n",
    "\n",
    "import torch\n",
    "import torch.nn as nn"
   ]
  },
  {
   "cell_type": "code",
   "execution_count": 2,
   "metadata": {},
   "outputs": [
    {
     "data": {
      "text/html": [
       "<div>\n",
       "<style scoped>\n",
       "    .dataframe tbody tr th:only-of-type {\n",
       "        vertical-align: middle;\n",
       "    }\n",
       "\n",
       "    .dataframe tbody tr th {\n",
       "        vertical-align: top;\n",
       "    }\n",
       "\n",
       "    .dataframe thead th {\n",
       "        text-align: right;\n",
       "    }\n",
       "</style>\n",
       "<table border=\"1\" class=\"dataframe\">\n",
       "  <thead>\n",
       "    <tr style=\"text-align: right;\">\n",
       "      <th></th>\n",
       "      <th>Date</th>\n",
       "      <th>Open</th>\n",
       "      <th>High</th>\n",
       "      <th>Low</th>\n",
       "      <th>Close</th>\n",
       "      <th>Adj Close</th>\n",
       "      <th>Volume</th>\n",
       "    </tr>\n",
       "  </thead>\n",
       "  <tbody>\n",
       "    <tr>\n",
       "      <th>0</th>\n",
       "      <td>1997-05-15</td>\n",
       "      <td>0.121875</td>\n",
       "      <td>0.125000</td>\n",
       "      <td>0.096354</td>\n",
       "      <td>0.097917</td>\n",
       "      <td>0.097917</td>\n",
       "      <td>1443120000</td>\n",
       "    </tr>\n",
       "    <tr>\n",
       "      <th>1</th>\n",
       "      <td>1997-05-16</td>\n",
       "      <td>0.098438</td>\n",
       "      <td>0.098958</td>\n",
       "      <td>0.085417</td>\n",
       "      <td>0.086458</td>\n",
       "      <td>0.086458</td>\n",
       "      <td>294000000</td>\n",
       "    </tr>\n",
       "    <tr>\n",
       "      <th>2</th>\n",
       "      <td>1997-05-19</td>\n",
       "      <td>0.088021</td>\n",
       "      <td>0.088542</td>\n",
       "      <td>0.081250</td>\n",
       "      <td>0.085417</td>\n",
       "      <td>0.085417</td>\n",
       "      <td>122136000</td>\n",
       "    </tr>\n",
       "    <tr>\n",
       "      <th>3</th>\n",
       "      <td>1997-05-20</td>\n",
       "      <td>0.086458</td>\n",
       "      <td>0.087500</td>\n",
       "      <td>0.081771</td>\n",
       "      <td>0.081771</td>\n",
       "      <td>0.081771</td>\n",
       "      <td>109344000</td>\n",
       "    </tr>\n",
       "    <tr>\n",
       "      <th>4</th>\n",
       "      <td>1997-05-21</td>\n",
       "      <td>0.081771</td>\n",
       "      <td>0.082292</td>\n",
       "      <td>0.068750</td>\n",
       "      <td>0.071354</td>\n",
       "      <td>0.071354</td>\n",
       "      <td>377064000</td>\n",
       "    </tr>\n",
       "    <tr>\n",
       "      <th>...</th>\n",
       "      <td>...</td>\n",
       "      <td>...</td>\n",
       "      <td>...</td>\n",
       "      <td>...</td>\n",
       "      <td>...</td>\n",
       "      <td>...</td>\n",
       "      <td>...</td>\n",
       "    </tr>\n",
       "    <tr>\n",
       "      <th>6511</th>\n",
       "      <td>2023-03-30</td>\n",
       "      <td>101.550003</td>\n",
       "      <td>103.040001</td>\n",
       "      <td>101.010002</td>\n",
       "      <td>102.000000</td>\n",
       "      <td>102.000000</td>\n",
       "      <td>53633400</td>\n",
       "    </tr>\n",
       "    <tr>\n",
       "      <th>6512</th>\n",
       "      <td>2023-03-31</td>\n",
       "      <td>102.160004</td>\n",
       "      <td>103.489998</td>\n",
       "      <td>101.949997</td>\n",
       "      <td>103.290001</td>\n",
       "      <td>103.290001</td>\n",
       "      <td>56704300</td>\n",
       "    </tr>\n",
       "    <tr>\n",
       "      <th>6513</th>\n",
       "      <td>2023-04-03</td>\n",
       "      <td>102.300003</td>\n",
       "      <td>103.290001</td>\n",
       "      <td>101.430000</td>\n",
       "      <td>102.410004</td>\n",
       "      <td>102.410004</td>\n",
       "      <td>41135700</td>\n",
       "    </tr>\n",
       "    <tr>\n",
       "      <th>6514</th>\n",
       "      <td>2023-04-04</td>\n",
       "      <td>102.750000</td>\n",
       "      <td>104.199997</td>\n",
       "      <td>102.110001</td>\n",
       "      <td>103.949997</td>\n",
       "      <td>103.949997</td>\n",
       "      <td>48662500</td>\n",
       "    </tr>\n",
       "    <tr>\n",
       "      <th>6515</th>\n",
       "      <td>2023-04-05</td>\n",
       "      <td>103.910004</td>\n",
       "      <td>103.910004</td>\n",
       "      <td>100.750000</td>\n",
       "      <td>101.099998</td>\n",
       "      <td>101.099998</td>\n",
       "      <td>45103000</td>\n",
       "    </tr>\n",
       "  </tbody>\n",
       "</table>\n",
       "<p>6516 rows × 7 columns</p>\n",
       "</div>"
      ],
      "text/plain": [
       "            Date        Open        High         Low       Close   Adj Close  \\\n",
       "0     1997-05-15    0.121875    0.125000    0.096354    0.097917    0.097917   \n",
       "1     1997-05-16    0.098438    0.098958    0.085417    0.086458    0.086458   \n",
       "2     1997-05-19    0.088021    0.088542    0.081250    0.085417    0.085417   \n",
       "3     1997-05-20    0.086458    0.087500    0.081771    0.081771    0.081771   \n",
       "4     1997-05-21    0.081771    0.082292    0.068750    0.071354    0.071354   \n",
       "...          ...         ...         ...         ...         ...         ...   \n",
       "6511  2023-03-30  101.550003  103.040001  101.010002  102.000000  102.000000   \n",
       "6512  2023-03-31  102.160004  103.489998  101.949997  103.290001  103.290001   \n",
       "6513  2023-04-03  102.300003  103.290001  101.430000  102.410004  102.410004   \n",
       "6514  2023-04-04  102.750000  104.199997  102.110001  103.949997  103.949997   \n",
       "6515  2023-04-05  103.910004  103.910004  100.750000  101.099998  101.099998   \n",
       "\n",
       "          Volume  \n",
       "0     1443120000  \n",
       "1      294000000  \n",
       "2      122136000  \n",
       "3      109344000  \n",
       "4      377064000  \n",
       "...          ...  \n",
       "6511    53633400  \n",
       "6512    56704300  \n",
       "6513    41135700  \n",
       "6514    48662500  \n",
       "6515    45103000  \n",
       "\n",
       "[6516 rows x 7 columns]"
      ]
     },
     "execution_count": 2,
     "metadata": {},
     "output_type": "execute_result"
    }
   ],
   "source": [
    "data = pd.read_csv('AMZN.csv')\n",
    "\n",
    "data"
   ]
  },
  {
   "cell_type": "code",
   "execution_count": 3,
   "metadata": {},
   "outputs": [
    {
     "data": {
      "text/html": [
       "<div>\n",
       "<style scoped>\n",
       "    .dataframe tbody tr th:only-of-type {\n",
       "        vertical-align: middle;\n",
       "    }\n",
       "\n",
       "    .dataframe tbody tr th {\n",
       "        vertical-align: top;\n",
       "    }\n",
       "\n",
       "    .dataframe thead th {\n",
       "        text-align: right;\n",
       "    }\n",
       "</style>\n",
       "<table border=\"1\" class=\"dataframe\">\n",
       "  <thead>\n",
       "    <tr style=\"text-align: right;\">\n",
       "      <th></th>\n",
       "      <th>Date</th>\n",
       "      <th>Close</th>\n",
       "    </tr>\n",
       "  </thead>\n",
       "  <tbody>\n",
       "    <tr>\n",
       "      <th>0</th>\n",
       "      <td>1997-05-15</td>\n",
       "      <td>0.097917</td>\n",
       "    </tr>\n",
       "    <tr>\n",
       "      <th>1</th>\n",
       "      <td>1997-05-16</td>\n",
       "      <td>0.086458</td>\n",
       "    </tr>\n",
       "    <tr>\n",
       "      <th>2</th>\n",
       "      <td>1997-05-19</td>\n",
       "      <td>0.085417</td>\n",
       "    </tr>\n",
       "    <tr>\n",
       "      <th>3</th>\n",
       "      <td>1997-05-20</td>\n",
       "      <td>0.081771</td>\n",
       "    </tr>\n",
       "    <tr>\n",
       "      <th>4</th>\n",
       "      <td>1997-05-21</td>\n",
       "      <td>0.071354</td>\n",
       "    </tr>\n",
       "    <tr>\n",
       "      <th>...</th>\n",
       "      <td>...</td>\n",
       "      <td>...</td>\n",
       "    </tr>\n",
       "    <tr>\n",
       "      <th>6511</th>\n",
       "      <td>2023-03-30</td>\n",
       "      <td>102.000000</td>\n",
       "    </tr>\n",
       "    <tr>\n",
       "      <th>6512</th>\n",
       "      <td>2023-03-31</td>\n",
       "      <td>103.290001</td>\n",
       "    </tr>\n",
       "    <tr>\n",
       "      <th>6513</th>\n",
       "      <td>2023-04-03</td>\n",
       "      <td>102.410004</td>\n",
       "    </tr>\n",
       "    <tr>\n",
       "      <th>6514</th>\n",
       "      <td>2023-04-04</td>\n",
       "      <td>103.949997</td>\n",
       "    </tr>\n",
       "    <tr>\n",
       "      <th>6515</th>\n",
       "      <td>2023-04-05</td>\n",
       "      <td>101.099998</td>\n",
       "    </tr>\n",
       "  </tbody>\n",
       "</table>\n",
       "<p>6516 rows × 2 columns</p>\n",
       "</div>"
      ],
      "text/plain": [
       "            Date       Close\n",
       "0     1997-05-15    0.097917\n",
       "1     1997-05-16    0.086458\n",
       "2     1997-05-19    0.085417\n",
       "3     1997-05-20    0.081771\n",
       "4     1997-05-21    0.071354\n",
       "...          ...         ...\n",
       "6511  2023-03-30  102.000000\n",
       "6512  2023-03-31  103.290001\n",
       "6513  2023-04-03  102.410004\n",
       "6514  2023-04-04  103.949997\n",
       "6515  2023-04-05  101.099998\n",
       "\n",
       "[6516 rows x 2 columns]"
      ]
     },
     "execution_count": 3,
     "metadata": {},
     "output_type": "execute_result"
    }
   ],
   "source": [
    "data = data[['Date', 'Close']]\n",
    "data"
   ]
  },
  {
   "cell_type": "code",
   "execution_count": 4,
   "metadata": {},
   "outputs": [
    {
     "data": {
      "text/plain": [
       "'cpu'"
      ]
     },
     "execution_count": 4,
     "metadata": {},
     "output_type": "execute_result"
    }
   ],
   "source": [
    "device = \"cuda:0\" if torch.cuda.is_available() else \"cpu\"\n",
    "device"
   ]
  },
  {
   "cell_type": "code",
   "execution_count": 5,
   "metadata": {},
   "outputs": [
    {
     "name": "stderr",
     "output_type": "stream",
     "text": [
      "C:\\Users\\tp511\\AppData\\Local\\Temp\\ipykernel_4180\\1819287010.py:1: SettingWithCopyWarning: \n",
      "A value is trying to be set on a copy of a slice from a DataFrame.\n",
      "Try using .loc[row_indexer,col_indexer] = value instead\n",
      "\n",
      "See the caveats in the documentation: https://pandas.pydata.org/pandas-docs/stable/user_guide/indexing.html#returning-a-view-versus-a-copy\n",
      "  data['Date'] = pd.to_datetime(data['Date'])\n"
     ]
    },
    {
     "data": {
      "text/plain": [
       "[<matplotlib.lines.Line2D at 0x135ff4e8150>]"
      ]
     },
     "execution_count": 5,
     "metadata": {},
     "output_type": "execute_result"
    },
    {
     "data": {
      "image/png": "[encoded data removed]",
      "text/plain": [
       "<Figure size 640x480 with 1 Axes>"
      ]
     },
     "metadata": {},
     "output_type": "display_data"
    }
   ],
   "source": [
    "data['Date'] = pd.to_datetime(data['Date'])\n",
    "\n",
    "plt.plot(data['Date'], data['Close'])"
   ]
  },
  {
   "cell_type": "code",
   "execution_count": 6,
   "metadata": {},
   "outputs": [
    {
     "data": {
      "text/html": [
       "<div>\n",
       "<style scoped>\n",
       "    .dataframe tbody tr th:only-of-type {\n",
       "        vertical-align: middle;\n",
       "    }\n",
       "\n",
       "    .dataframe tbody tr th {\n",
       "        vertical-align: top;\n",
       "    }\n",
       "\n",
       "    .dataframe thead th {\n",
       "        text-align: right;\n",
       "    }\n",
       "</style>\n",
       "<table border=\"1\" class=\"dataframe\">\n",
       "  <thead>\n",
       "    <tr style=\"text-align: right;\">\n",
       "      <th></th>\n",
       "      <th>Close</th>\n",
       "      <th>Close(t - 1)</th>\n",
       "      <th>Close(t - 2)</th>\n",
       "      <th>Close(t - 3)</th>\n",
       "      <th>Close(t - 4)</th>\n",
       "      <th>Close(t - 5)</th>\n",
       "      <th>Close(t - 6)</th>\n",
       "      <th>Close(t - 7)</th>\n",
       "    </tr>\n",
       "    <tr>\n",
       "      <th>Date</th>\n",
       "      <th></th>\n",
       "      <th></th>\n",
       "      <th></th>\n",
       "      <th></th>\n",
       "      <th></th>\n",
       "      <th></th>\n",
       "      <th></th>\n",
       "      <th></th>\n",
       "    </tr>\n",
       "  </thead>\n",
       "  <tbody>\n",
       "    <tr>\n",
       "      <th>1997-05-27</th>\n",
       "      <td>0.079167</td>\n",
       "      <td>0.075000</td>\n",
       "      <td>0.069792</td>\n",
       "      <td>0.071354</td>\n",
       "      <td>0.081771</td>\n",
       "      <td>0.085417</td>\n",
       "      <td>0.086458</td>\n",
       "      <td>0.097917</td>\n",
       "    </tr>\n",
       "    <tr>\n",
       "      <th>1997-05-28</th>\n",
       "      <td>0.076563</td>\n",
       "      <td>0.079167</td>\n",
       "      <td>0.075000</td>\n",
       "      <td>0.069792</td>\n",
       "      <td>0.071354</td>\n",
       "      <td>0.081771</td>\n",
       "      <td>0.085417</td>\n",
       "      <td>0.086458</td>\n",
       "    </tr>\n",
       "    <tr>\n",
       "      <th>1997-05-29</th>\n",
       "      <td>0.075260</td>\n",
       "      <td>0.076563</td>\n",
       "      <td>0.079167</td>\n",
       "      <td>0.075000</td>\n",
       "      <td>0.069792</td>\n",
       "      <td>0.071354</td>\n",
       "      <td>0.081771</td>\n",
       "      <td>0.085417</td>\n",
       "    </tr>\n",
       "    <tr>\n",
       "      <th>1997-05-30</th>\n",
       "      <td>0.075000</td>\n",
       "      <td>0.075260</td>\n",
       "      <td>0.076563</td>\n",
       "      <td>0.079167</td>\n",
       "      <td>0.075000</td>\n",
       "      <td>0.069792</td>\n",
       "      <td>0.071354</td>\n",
       "      <td>0.081771</td>\n",
       "    </tr>\n",
       "    <tr>\n",
       "      <th>1997-06-02</th>\n",
       "      <td>0.075521</td>\n",
       "      <td>0.075000</td>\n",
       "      <td>0.075260</td>\n",
       "      <td>0.076563</td>\n",
       "      <td>0.079167</td>\n",
       "      <td>0.075000</td>\n",
       "      <td>0.069792</td>\n",
       "      <td>0.071354</td>\n",
       "    </tr>\n",
       "    <tr>\n",
       "      <th>...</th>\n",
       "      <td>...</td>\n",
       "      <td>...</td>\n",
       "      <td>...</td>\n",
       "      <td>...</td>\n",
       "      <td>...</td>\n",
       "      <td>...</td>\n",
       "      <td>...</td>\n",
       "      <td>...</td>\n",
       "    </tr>\n",
       "    <tr>\n",
       "      <th>2023-03-30</th>\n",
       "      <td>102.000000</td>\n",
       "      <td>100.250000</td>\n",
       "      <td>97.239998</td>\n",
       "      <td>98.040001</td>\n",
       "      <td>98.129997</td>\n",
       "      <td>98.709999</td>\n",
       "      <td>98.699997</td>\n",
       "      <td>100.610001</td>\n",
       "    </tr>\n",
       "    <tr>\n",
       "      <th>2023-03-31</th>\n",
       "      <td>103.290001</td>\n",
       "      <td>102.000000</td>\n",
       "      <td>100.250000</td>\n",
       "      <td>97.239998</td>\n",
       "      <td>98.040001</td>\n",
       "      <td>98.129997</td>\n",
       "      <td>98.709999</td>\n",
       "      <td>98.699997</td>\n",
       "    </tr>\n",
       "    <tr>\n",
       "      <th>2023-04-03</th>\n",
       "      <td>102.410004</td>\n",
       "      <td>103.290001</td>\n",
       "      <td>102.000000</td>\n",
       "      <td>100.250000</td>\n",
       "      <td>97.239998</td>\n",
       "      <td>98.040001</td>\n",
       "      <td>98.129997</td>\n",
       "      <td>98.709999</td>\n",
       "    </tr>\n",
       "    <tr>\n",
       "      <th>2023-04-04</th>\n",
       "      <td>103.949997</td>\n",
       "      <td>102.410004</td>\n",
       "      <td>103.290001</td>\n",
       "      <td>102.000000</td>\n",
       "      <td>100.250000</td>\n",
       "      <td>97.239998</td>\n",
       "      <td>98.040001</td>\n",
       "      <td>98.129997</td>\n",
       "    </tr>\n",
       "    <tr>\n",
       "      <th>2023-04-05</th>\n",
       "      <td>101.099998</td>\n",
       "      <td>103.949997</td>\n",
       "      <td>102.410004</td>\n",
       "      <td>103.290001</td>\n",
       "      <td>102.000000</td>\n",
       "      <td>100.250000</td>\n",
       "      <td>97.239998</td>\n",
       "      <td>98.040001</td>\n",
       "    </tr>\n",
       "  </tbody>\n",
       "</table>\n",
       "<p>6509 rows × 8 columns</p>\n",
       "</div>"
      ],
      "text/plain": [
       "                 Close  Close(t - 1)  Close(t - 2)  Close(t - 3)  \\\n",
       "Date                                                               \n",
       "1997-05-27    0.079167      0.075000      0.069792      0.071354   \n",
       "1997-05-28    0.076563      0.079167      0.075000      0.069792   \n",
       "1997-05-29    0.075260      0.076563      0.079167      0.075000   \n",
       "1997-05-30    0.075000      0.075260      0.076563      0.079167   \n",
       "1997-06-02    0.075521      0.075000      0.075260      0.076563   \n",
       "...                ...           ...           ...           ...   \n",
       "2023-03-30  102.000000    100.250000     97.239998     98.040001   \n",
       "2023-03-31  103.290001    102.000000    100.250000     97.239998   \n",
       "2023-04-03  102.410004    103.290001    102.000000    100.250000   \n",
       "2023-04-04  103.949997    102.410004    103.290001    102.000000   \n",
       "2023-04-05  101.099998    103.949997    102.410004    103.290001   \n",
       "\n",
       "            Close(t - 4)  Close(t - 5)  Close(t - 6)  Close(t - 7)  \n",
       "Date                                                                \n",
       "1997-05-27      0.081771      0.085417      0.086458      0.097917  \n",
       "1997-05-28      0.071354      0.081771      0.085417      0.086458  \n",
       "1997-05-29      0.069792      0.071354      0.081771      0.085417  \n",
       "1997-05-30      0.075000      0.069792      0.071354      0.081771  \n",
       "1997-06-02      0.079167      0.075000      0.069792      0.071354  \n",
       "...                  ...           ...           ...           ...  \n",
       "2023-03-30     98.129997     98.709999     98.699997    100.610001  \n",
       "2023-03-31     98.040001     98.129997     98.709999     98.699997  \n",
       "2023-04-03     97.239998     98.040001     98.129997     98.709999  \n",
       "2023-04-04    100.250000     97.239998     98.040001     98.129997  \n",
       "2023-04-05    102.000000    100.250000     97.239998     98.040001  \n",
       "\n",
       "[6509 rows x 8 columns]"
      ]
     },
     "execution_count": 6,
     "metadata": {},
     "output_type": "execute_result"
    }
   ],
   "source": [
    "from copy import deepcopy as dc \n",
    "\n",
    "def prepare_dataframe_from_lstm(df, n_steps):\n",
    "    df = dc(df)\n",
    "\n",
    "    df.set_index('Date', inplace=True)\n",
    "\n",
    "    for i in range(1, n_steps+1):\n",
    "        df[f'Close(t - {i})'] = df['Close'].shift(i)\n",
    "\n",
    "    df.dropna(inplace=True)\n",
    "\n",
    "    return df\n",
    "\n",
    "lookback = 7\n",
    "shifted_df = prepare_dataframe_from_lstm(data, lookback)\n",
    "shifted_df"
   ]
  },
  {
   "cell_type": "code",
   "execution_count": 7,
   "metadata": {},
   "outputs": [
    {
     "data": {
      "text/plain": [
       "array([[7.91670000e-02, 7.50000000e-02, 6.97920000e-02, ...,\n",
       "        8.54170000e-02, 8.64580000e-02, 9.79170000e-02],\n",
       "       [7.65630000e-02, 7.91670000e-02, 7.50000000e-02, ...,\n",
       "        8.17710000e-02, 8.54170000e-02, 8.64580000e-02],\n",
       "       [7.52600000e-02, 7.65630000e-02, 7.91670000e-02, ...,\n",
       "        7.13540000e-02, 8.17710000e-02, 8.54170000e-02],\n",
       "       ...,\n",
       "       [1.02410004e+02, 1.03290001e+02, 1.02000000e+02, ...,\n",
       "        9.80400010e+01, 9.81299970e+01, 9.87099990e+01],\n",
       "       [1.03949997e+02, 1.02410004e+02, 1.03290001e+02, ...,\n",
       "        9.72399980e+01, 9.80400010e+01, 9.81299970e+01],\n",
       "       [1.01099998e+02, 1.03949997e+02, 1.02410004e+02, ...,\n",
       "        1.00250000e+02, 9.72399980e+01, 9.80400010e+01]])"
      ]
     },
     "execution_count": 7,
     "metadata": {},
     "output_type": "execute_result"
    }
   ],
   "source": [
    "shifted_df_as_np = shifted_df.to_numpy()\n",
    "\n",
    "shifted_df_as_np"
   ]
  },
  {
   "cell_type": "code",
   "execution_count": 8,
   "metadata": {},
   "outputs": [
    {
     "data": {
      "text/plain": [
       "array([[-0.99991063, -0.99995531, -1.        , ..., -0.99983244,\n",
       "        -0.99982128, -0.99969839],\n",
       "       [-0.99993855, -0.99991063, -0.99994415, ..., -0.99987154,\n",
       "        -0.99983244, -0.99982128],\n",
       "       [-0.99995253, -0.99993855, -0.99989946, ..., -0.99998325,\n",
       "        -0.99987154, -0.99983244],\n",
       "       ...,\n",
       "       [ 0.09747299,  0.10690997,  0.09308121, ...,  0.0506149 ,\n",
       "         0.05158   ,  0.05779984],\n",
       "       [ 0.11398769,  0.09747299,  0.10691495, ...,  0.04203581,\n",
       "         0.0506149 ,  0.05158   ],\n",
       "       [ 0.08342464,  0.11398769,  0.09747802, ...,  0.07431453,\n",
       "         0.04203581,  0.0506149 ]])"
      ]
     },
     "execution_count": 8,
     "metadata": {},
     "output_type": "execute_result"
    }
   ],
   "source": [
    "# scale numpy data between (-1, 1)\n",
    "from sklearn.preprocessing import MinMaxScaler\n",
    "\n",
    "scaler = MinMaxScaler(feature_range=(-1, 1))\n",
    "shifted_df_as_np = scaler.fit_transform(shifted_df_as_np)\n",
    "\n",
    "shifted_df_as_np"
   ]
  },
  {
   "cell_type": "code",
   "execution_count": 9,
   "metadata": {},
   "outputs": [
    {
     "data": {
      "text/plain": [
       "((6509, 7), (6509,))"
      ]
     },
     "execution_count": 9,
     "metadata": {},
     "output_type": "execute_result"
    }
   ],
   "source": [
    "X = shifted_df_as_np[:, 1:]\n",
    "y = shifted_df_as_np[:, 0]\n",
    "\n",
    "X.shape, y.shape"
   ]
  },
  {
   "cell_type": "code",
   "execution_count": 10,
   "metadata": {},
   "outputs": [
    {
     "data": {
      "text/plain": [
       "array([[-0.99969839, -0.99982128, -0.99983244, ..., -0.99998325,\n",
       "        -1.        , -0.99995531],\n",
       "       [-0.99982128, -0.99983244, -0.99987154, ..., -1.        ,\n",
       "        -0.99994415, -0.99991063],\n",
       "       [-0.99983244, -0.99987154, -0.99998325, ..., -0.99994415,\n",
       "        -0.99989946, -0.99993855],\n",
       "       ...,\n",
       "       [ 0.05779984,  0.05158   ,  0.0506149 , ...,  0.07431453,\n",
       "         0.09308121,  0.10690997],\n",
       "       [ 0.05158   ,  0.0506149 ,  0.04203581, ...,  0.09308121,\n",
       "         0.10691495,  0.09747299],\n",
       "       [ 0.0506149 ,  0.04203581,  0.07431453, ...,  0.10691495,\n",
       "         0.09747802,  0.11398769]])"
      ]
     },
     "execution_count": 10,
     "metadata": {},
     "output_type": "execute_result"
    }
   ],
   "source": [
    "# take to close '(t-7)' column to 'Close' column so that It will give more accurate answer\n",
    "X = dc(np.flip(X, axis=1))\n",
    "X"
   ]
  },
  {
   "cell_type": "code",
   "execution_count": 11,
   "metadata": {},
   "outputs": [
    {
     "data": {
      "text/plain": [
       "6183"
      ]
     },
     "execution_count": 11,
     "metadata": {},
     "output_type": "execute_result"
    }
   ],
   "source": [
    "split_index = int(len(X) * 0.95)\n",
    "\n",
    "split_index"
   ]
  },
  {
   "cell_type": "code",
   "execution_count": 12,
   "metadata": {},
   "outputs": [
    {
     "data": {
      "text/plain": [
       "((6183, 7), (326, 7), (6183,), (326,))"
      ]
     },
     "execution_count": 12,
     "metadata": {},
     "output_type": "execute_result"
    }
   ],
   "source": [
    "X_train = X[:split_index]\n",
    "X_test = X[split_index:]\n",
    "\n",
    "y_train = y[:split_index]\n",
    "y_test = y[split_index:]\n",
    "\n",
    "X_train.shape, X_test.shape, y_train.shape, y_test.shape "
   ]
  },
  {
   "cell_type": "code",
   "execution_count": 13,
   "metadata": {},
   "outputs": [
    {
     "data": {
      "text/plain": [
       "((6183, 7, 1), (326, 7, 1), (6183, 1), (326, 1))"
      ]
     },
     "execution_count": 13,
     "metadata": {},
     "output_type": "execute_result"
    }
   ],
   "source": [
    "X_train = X_train.reshape((-1, lookback, 1))\n",
    "X_test = X_test.reshape((-1, lookback, 1))\n",
    "\n",
    "y_train = y_train.reshape((-1, 1))\n",
    "y_test = y_test.reshape((-1, 1))\n",
    "\n",
    "X_train.shape, X_test.shape, y_train.shape, y_test.shape"
   ]
  },
  {
   "cell_type": "code",
   "execution_count": 14,
   "metadata": {},
   "outputs": [
    {
     "data": {
      "text/plain": [
       "(torch.Size([6183, 7, 1]),\n",
       " torch.Size([326, 7, 1]),\n",
       " torch.Size([6183, 1]),\n",
       " torch.Size([326, 1]))"
      ]
     },
     "execution_count": 14,
     "metadata": {},
     "output_type": "execute_result"
    }
   ],
   "source": [
    "# dtype is in numpy, convert into tensor\n",
    "X_train = torch.tensor(X_train).float()\n",
    "X_test = torch.tensor(X_test).float()\n",
    "y_train = torch.tensor(y_train).float()\n",
    "y_test = torch.tensor(y_test).float()\n",
    "\n",
    "X_train.shape, X_test.shape, y_train.shape, y_test.shape"
   ]
  },
  {
   "cell_type": "code",
   "execution_count": 15,
   "metadata": {},
   "outputs": [],
   "source": [
    "# dataset\n",
    "from torch.utils.data import Dataset\n",
    "\n",
    "class TimeSeriesDataset(Dataset):\n",
    "    def __init__(self, X, y):\n",
    "        self.X = X\n",
    "        self.y = y\n",
    "\n",
    "    def __len__(self):\n",
    "        return len(self.X)\n",
    "    \n",
    "    def __getitem__(self, i):\n",
    "        return self.X[i], self.y[i]\n",
    "    \n",
    "train_dataset = TimeSeriesDataset(X_train, y_train)\n",
    "test_dataset = TimeSeriesDataset(X_test, y_test)"
   ]
  },
  {
   "cell_type": "code",
   "execution_count": 16,
   "metadata": {},
   "outputs": [
    {
     "data": {
      "text/plain": [
       "<__main__.TimeSeriesDataset at 0x13580014d50>"
      ]
     },
     "execution_count": 16,
     "metadata": {},
     "output_type": "execute_result"
    }
   ],
   "source": [
    "train_dataset"
   ]
  },
  {
   "cell_type": "code",
   "execution_count": 17,
   "metadata": {},
   "outputs": [],
   "source": [
    "# dataloader\n",
    "from torch.utils.data import DataLoader\n",
    "\n",
    "batch_size = 16\n",
    "trian_dataloader = DataLoader(train_dataset, batch_size=batch_size, shuffle=True)\n",
    "test_dataloader = DataLoader(test_dataset, batch_size=batch_size, shuffle=False)"
   ]
  },
  {
   "cell_type": "code",
   "execution_count": 18,
   "metadata": {},
   "outputs": [
    {
     "name": "stdout",
     "output_type": "stream",
     "text": [
      "torch.Size([16, 7, 1]) torch.Size([16, 1])\n"
     ]
    }
   ],
   "source": [
    "for _, batch in enumerate(trian_dataloader):\n",
    "    x_batch, y_batch = batch[0].to(device), batch[1].to(device)\n",
    "    print(x_batch.shape, y_batch.shape)\n",
    "    break"
   ]
  },
  {
   "cell_type": "code",
   "execution_count": 19,
   "metadata": {},
   "outputs": [
    {
     "data": {
      "text/plain": [
       "LSTM(\n",
       "  (lstm): LSTM(1, 4, batch_first=True)\n",
       "  (fc): Linear(in_features=4, out_features=1, bias=True)\n",
       ")"
      ]
     },
     "execution_count": 19,
     "metadata": {},
     "output_type": "execute_result"
    }
   ],
   "source": [
    "class LSTM(nn.Module):\n",
    "    def __init__(self, input_size, hidden_size, num_stacked_layer):\n",
    "        super().__init__()\n",
    "        self.hidden_size = hidden_size\n",
    "        self.num_stacked_layer = num_stacked_layer\n",
    "\n",
    "        self.lstm = nn.LSTM(input_size, hidden_size, num_stacked_layer, batch_first=True)\n",
    "\n",
    "        self.fc = nn.Linear(hidden_size, 1)\n",
    "\n",
    "    def forward(self, x):\n",
    "        batch_size = x.size(0)\n",
    "        h0 = torch.zeros(self.num_stacked_layer, batch_size, self.hidden_size).to(device)\n",
    "        c0 = torch.zeros(self.num_stacked_layer, batch_size, self.hidden_size).to(device)\n",
    "        out, _ = self.lstm(x, (h0, c0))\n",
    "        out = self.fc(out[:, -1, :])\n",
    "        return out\n",
    "    \n",
    "model = LSTM(1, 4, 1)\n",
    "model.to(device)\n",
    "model"
   ]
  },
  {
   "cell_type": "code",
   "execution_count": 20,
   "metadata": {},
   "outputs": [],
   "source": [
    "def train_one_epoch():\n",
    "    model.train(True)\n",
    "    print(f'Epoch: {epoch + 1}')\n",
    "    running_loss = 0.0\n",
    "\n",
    "    for batch_index, batch in enumerate(trian_dataloader):\n",
    "        x_batch, y_batch = batch[0].to(device), batch[1].to(device)\n",
    "\n",
    "        output = model(x_batch)\n",
    "        loss = loss_function(output, y_batch)\n",
    "        running_loss += loss.item()\n",
    "\n",
    "        optimizer.zero_grad()\n",
    "        loss.backward()\n",
    "        optimizer.step()\n",
    "\n",
    "        if batch_index % 100 == 99:  # print every 100 batch\n",
    "            avg_loss_accross_batches = running_loss / 100 \n",
    "            print(f'Batch {batch_index + 1}, Loss {avg_loss_accross_batches:.3f}')\n",
    "\n",
    "            running_loss = 0.0\n",
    "            \n",
    "    print()"
   ]
  },
  {
   "cell_type": "code",
   "execution_count": 21,
   "metadata": {},
   "outputs": [],
   "source": [
    "def validate_one_epoch():\n",
    "    model.train(False)\n",
    "    running_loss = 0.0\n",
    "\n",
    "    for batch_index, batch in enumerate(test_dataloader):\n",
    "        x_batch, y_batch = batch[0].to(device), batch[1].to(device)\n",
    "\n",
    "        with torch.no_grad():\n",
    "            output = model(x_batch)\n",
    "            loss = loss_function(output, y_batch)\n",
    "            running_loss += loss.item()\n",
    "\n",
    "    avg_loss_across_batches = running_loss / len(test_dataloader)\n",
    "\n",
    "    print(f\"Val Loss: {avg_loss_across_batches:.3f}\")\n",
    "    print(\"*********************************\")\n",
    "    print()"
   ]
  },
  {
   "cell_type": "code",
   "execution_count": 22,
   "metadata": {},
   "outputs": [
    {
     "name": "stdout",
     "output_type": "stream",
     "text": [
      "Epoch: 1\n",
      "Batch 100, Loss 0.338\n",
      "Batch 200, Loss 0.187\n",
      "Batch 300, Loss 0.138\n",
      "\n",
      "Val Loss: 0.387\n",
      "*********************************\n",
      "\n",
      "Epoch: 2\n",
      "Batch 100, Loss 0.054\n",
      "Batch 200, Loss 0.039\n",
      "Batch 300, Loss 0.020\n",
      "\n",
      "Val Loss: 0.033\n",
      "*********************************\n",
      "\n",
      "Epoch: 3\n",
      "Batch 100, Loss 0.007\n",
      "Batch 200, Loss 0.004\n",
      "Batch 300, Loss 0.002\n",
      "\n",
      "Val Loss: 0.013\n",
      "*********************************\n",
      "\n",
      "Epoch: 4\n",
      "Batch 100, Loss 0.001\n",
      "Batch 200, Loss 0.001\n",
      "Batch 300, Loss 0.001\n",
      "\n",
      "Val Loss: 0.009\n",
      "*********************************\n",
      "\n",
      "Epoch: 5\n",
      "Batch 100, Loss 0.001\n",
      "Batch 200, Loss 0.001\n",
      "Batch 300, Loss 0.000\n",
      "\n",
      "Val Loss: 0.007\n",
      "*********************************\n",
      "\n",
      "Epoch: 6\n",
      "Batch 100, Loss 0.000\n",
      "Batch 200, Loss 0.000\n",
      "Batch 300, Loss 0.000\n",
      "\n",
      "Val Loss: 0.006\n",
      "*********************************\n",
      "\n",
      "Epoch: 7\n",
      "Batch 100, Loss 0.000\n",
      "Batch 200, Loss 0.000\n",
      "Batch 300, Loss 0.000\n",
      "\n",
      "Val Loss: 0.005\n",
      "*********************************\n",
      "\n",
      "Epoch: 8\n",
      "Batch 100, Loss 0.000\n",
      "Batch 200, Loss 0.000\n",
      "Batch 300, Loss 0.000\n",
      "\n",
      "Val Loss: 0.005\n",
      "*********************************\n",
      "\n",
      "Epoch: 9\n",
      "Batch 100, Loss 0.000\n",
      "Batch 200, Loss 0.000\n",
      "Batch 300, Loss 0.000\n",
      "\n",
      "Val Loss: 0.005\n",
      "*********************************\n",
      "\n",
      "Epoch: 10\n",
      "Batch 100, Loss 0.000\n",
      "Batch 200, Loss 0.000\n",
      "Batch 300, Loss 0.000\n",
      "\n",
      "Val Loss: 0.004\n",
      "*********************************\n",
      "\n"
     ]
    }
   ],
   "source": [
    "learning_rate = 0.001\n",
    "num_epochs = 10\n",
    "loss_function = nn.MSELoss()\n",
    "optimizer = torch.optim.Adam(model.parameters(), lr=learning_rate)\n",
    "\n",
    "\n",
    "for epoch in range(num_epochs):\n",
    "    train_one_epoch()\n",
    "    validate_one_epoch()"
   ]
  },
  {
   "cell_type": "code",
   "execution_count": 23,
   "metadata": {},
   "outputs": [
    {
     "data": {
      "image/png": "[encoded data removed]",
      "text/plain": [
       "<Figure size 640x480 with 1 Axes>"
      ]
     },
     "metadata": {},
     "output_type": "display_data"
    }
   ],
   "source": [
    "with torch.no_grad():\n",
    "    predicted = model(X_train.to(device)).to('cpu').numpy()\n",
    "\n",
    "plt.plot(y_train, label='Actual Price')\n",
    "plt.plot(predicted, label='Predicted Price')\n",
    "plt.xlabel('Day')\n",
    "plt.ylabel('Stock Price')\n",
    "plt.legend()\n",
    "plt.show()"
   ]
  },
  {
   "cell_type": "code",
   "execution_count": 24,
   "metadata": {},
   "outputs": [
    {
     "data": {
      "text/plain": [
       "array([  0.30140062,   0.30126167,   0.30091706, ..., 169.6379964 ,\n",
       "       169.50899237, 169.48154635])"
      ]
     },
     "execution_count": 24,
     "metadata": {},
     "output_type": "execute_result"
    }
   ],
   "source": [
    "# convert into true scale on y-axis\n",
    "train_predictions = predicted.flatten()\n",
    "\n",
    "dummies = np.zeros((X_train.shape[0], lookback + 1))\n",
    "dummies[:, 0] = train_predictions\n",
    "dummies = scaler.inverse_transform(dummies)\n",
    "\n",
    "train_predictions = dc(dummies[:, 0])\n",
    "train_predictions"
   ]
  },
  {
   "cell_type": "code",
   "execution_count": 25,
   "metadata": {},
   "outputs": [
    {
     "data": {
      "text/plain": [
       "array([7.91646265e-02, 7.65634249e-02, 7.52572660e-02, ...,\n",
       "       1.69091505e+02, 1.73315001e+02, 1.68871003e+02])"
      ]
     },
     "execution_count": 25,
     "metadata": {},
     "output_type": "execute_result"
    }
   ],
   "source": [
    "dummies = np.zeros((X_train.shape[0], lookback + 1))\n",
    "dummies[:, 0] = y_train.flatten()\n",
    "dummies = scaler.inverse_transform(dummies)\n",
    "\n",
    "new_y_train = dc(dummies[:, 0])\n",
    "new_y_train"
   ]
  },
  {
   "cell_type": "code",
   "execution_count": 26,
   "metadata": {},
   "outputs": [
    {
     "data": {
      "image/png": "[encoded data removed]",
      "text/plain": [
       "<Figure size 640x480 with 1 Axes>"
      ]
     },
     "metadata": {},
     "output_type": "display_data"
    }
   ],
   "source": [
    "with torch.no_grad():\n",
    "    predicted = model(X_train.to(device)).to('cpu').numpy()\n",
    "\n",
    "plt.plot(new_y_train, label='Actual Price')\n",
    "plt.plot(train_predictions, label='Predicted Price')\n",
    "plt.xlabel('Day')\n",
    "plt.ylabel('Stock Price')\n",
    "plt.legend()\n",
    "plt.show()"
   ]
  },
  {
   "cell_type": "code",
   "execution_count": 27,
   "metadata": {},
   "outputs": [
    {
     "data": {
      "text/plain": [
       "array([169.11914561, 168.61835872, 168.14480664, 167.89216771,\n",
       "       168.02435099, 168.19668616, 167.99959511, 168.09632869,\n",
       "       168.08134399, 168.16048054])"
      ]
     },
     "execution_count": 27,
     "metadata": {},
     "output_type": "execute_result"
    }
   ],
   "source": [
    "# test preditions\n",
    "test_preditions = model(X_test.to(device)).detach().cpu().numpy().flatten()\n",
    "\n",
    "dummies = np.zeros((X_test.shape[0], lookback + 1))\n",
    "dummies[:, 0] = test_preditions\n",
    "dummies = scaler.inverse_transform(dummies)\n",
    "\n",
    "test_preditions = dc(dummies[:, 0])\n",
    "test_preditions[:10]"
   ]
  },
  {
   "cell_type": "code",
   "execution_count": 28,
   "metadata": {},
   "outputs": [
    {
     "data": {
      "text/plain": [
       "array([170.01749949, 167.07899763, 170.41700626, 171.03700377,\n",
       "       171.0684961 , 169.66949429, 170.66099675, 169.20100565,\n",
       "       168.64449858, 166.71699707])"
      ]
     },
     "execution_count": 28,
     "metadata": {},
     "output_type": "execute_result"
    }
   ],
   "source": [
    "dummies = np.zeros((X_test.shape[0], lookback + 1))\n",
    "dummies[:, 0] = y_test.flatten()\n",
    "dummies = scaler.inverse_transform(dummies)\n",
    "\n",
    "new_y_test = dc(dummies[:, 0])\n",
    "new_y_test[:10]"
   ]
  },
  {
   "cell_type": "code",
   "execution_count": 29,
   "metadata": {},
   "outputs": [
    {
     "data": {
      "image/png": "[encoded data removed]",
      "text/plain": [
       "<Figure size 640x480 with 1 Axes>"
      ]
     },
     "metadata": {},
     "output_type": "display_data"
    }
   ],
   "source": [
    "plt.plot(new_y_test, label='Actual Price')\n",
    "plt.plot(test_preditions, label='Predicted Price')\n",
    "plt.xlabel('Day')\n",
    "plt.ylabel('Stock Price')\n",
    "plt.legend()\n",
    "plt.show()"
   ]
  },
  {
   "cell_type": "code",
   "execution_count": null,
   "metadata": {},
   "outputs": [],
   "source": []
  }
 ],
 "metadata": {
  "kernelspec": {
   "display_name": "Python 3",
   "language": "python",
   "name": "python3"
  },
  "language_info": {
   "codemirror_mode": {
    "name": "ipython",
    "version": 3
   },
   "file_extension": ".py",
   "mimetype": "text/x-python",
   "name": "python",
   "nbconvert_exporter": "python",
   "pygments_lexer": "ipython3",
   "version": "3.11.3"
  }
 },
 "nbformat": 4,
 "nbformat_minor": 2
}
